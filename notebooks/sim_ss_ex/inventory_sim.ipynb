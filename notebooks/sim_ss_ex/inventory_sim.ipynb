{
 "cells": [
  {
   "cell_type": "code",
   "execution_count": 1,
   "id": "1e56fa8e",
   "metadata": {},
   "outputs": [],
   "source": [
    "import numpy as np\n",
    "import quantecon as qe\n",
    "from collections import namedtuple\n",
    "from numba import njit, int32\n",
    "import matplotlib.pyplot as plt"
   ]
  },
  {
   "cell_type": "code",
   "execution_count": 2,
   "id": "d2b67d7d",
   "metadata": {
    "lines_to_next_cell": 1
   },
   "outputs": [],
   "source": [
    "Model = namedtuple(\"Model\", (\"p\", \"s\", \"S\"))"
   ]
  },
  {
   "cell_type": "code",
   "execution_count": 3,
   "id": "d54905db",
   "metadata": {},
   "outputs": [],
   "source": [
    "def create_inventory_model(S=100,  # Order size\n",
    "                           s=10,   # Order threshold\n",
    "                           p=0.4): # Demand parameter\n",
    "    return Model(p=p, s=s, S=S)"
   ]
  },
  {
   "cell_type": "code",
   "execution_count": 4,
   "id": "630bb80e",
   "metadata": {
    "lines_to_next_cell": 1
   },
   "outputs": [],
   "source": [
    "@njit\n",
    "def h(x, d, model):\n",
    "    \"The update rule for the model.\"\n",
    "    s, S = model.s, model.S\n",
    "    return max(x - d, 0) + S * (x <= s)"
   ]
  },
  {
   "cell_type": "code",
   "execution_count": 5,
   "id": "16942411",
   "metadata": {
    "lines_to_next_cell": 1
   },
   "outputs": [],
   "source": [
    "@njit\n",
    "def phi_draw(model):\n",
    "    \"\"\"\n",
    "    A function to generate one draw from the geometric \n",
    "    distribution with parameter p, supported on 0, 1, ...\n",
    "    \"\"\"\n",
    "    # insert your code here"
   ]
  },
  {
   "cell_type": "code",
   "execution_count": 6,
   "id": "0158b59a",
   "metadata": {
    "lines_to_next_cell": 1
   },
   "outputs": [],
   "source": [
    "@njit\n",
    "def phi_pmf(k, model):\n",
    "    \"\"\"\n",
    "    Returns P{X = k} where X is geometric with parameter model.p, \n",
    "    supported on 0, 1, ...\n",
    "    \"\"\"\n",
    "    # insert your code here"
   ]
  },
  {
   "cell_type": "code",
   "execution_count": 7,
   "id": "7f4b55a6",
   "metadata": {
    "lines_to_next_cell": 1
   },
   "outputs": [],
   "source": [
    "@njit\n",
    "def sim_inventories(model, ts_length=200):\n",
    "    \"Simulate the inventory process.\"\n",
    "    X = np.empty(ts_length, dtype=int32)\n",
    "    X[0] = model.S  # Initial condition\n",
    "\n",
    "    for t in range(ts_length-1):\n",
    "        X[t+1] = h(X[t], phi_draw(model), model)\n",
    "    return X"
   ]
  },
  {
   "cell_type": "code",
   "execution_count": 8,
   "id": "2597b068",
   "metadata": {
    "lines_to_next_cell": 1
   },
   "outputs": [],
   "source": [
    "@njit\n",
    "def compute_mc(model, d_max=100):\n",
    "    \"Compute the transition probabilities and state.\"\n",
    "    s, S, p = model.s, model.S, model.p\n",
    "    n = S + s + 1  # Size of state space\n",
    "    P = np.empty((n, n))\n",
    "    for x in range(n):\n",
    "        for y in range(n):\n",
    "            prob = 0.0\n",
    "            for d in range(d_max):\n",
    "                prob += (h(x, d, model) == y) * phi_pmf(d, model)\n",
    "            P[x, y] = prob\n",
    "\n",
    "    return P"
   ]
  },
  {
   "cell_type": "code",
   "execution_count": 9,
   "id": "9f277f55",
   "metadata": {},
   "outputs": [],
   "source": [
    "def compute_stationary_dist(model):\n",
    "    \"Compute the stationary distribution of the model.\"\n",
    "    P = compute_mc(model)\n",
    "    mc = qe.MarkovChain(P)\n",
    "    return mc.stationary_distributions[0]"
   ]
  },
  {
   "cell_type": "code",
   "execution_count": 10,
   "id": "4895055a",
   "metadata": {},
   "outputs": [],
   "source": [
    "model = create_inventory_model()\n",
    "state_values = np.arange(model.S + model.s + 1)"
   ]
  },
  {
   "cell_type": "code",
   "execution_count": 11,
   "id": "4c8be139",
   "metadata": {},
   "outputs": [],
   "source": [
    "ψ_star = compute_stationary_dist(model) \n",
    "\n",
    "X = sim_inventories(model, ts_length=1_000_000)\n",
    "histogram = [np.mean(X == i) for i in state_values]"
   ]
  },
  {
   "cell_type": "code",
   "execution_count": 12,
   "id": "734a3283",
   "metadata": {},
   "outputs": [
    {
     "data": {
      "image/png": "[encoded data removed]",
      "text/plain": [
       "<Figure size 648x374.4 with 1 Axes>"
      ]
     },
     "metadata": {
      "needs_background": "light"
     },
     "output_type": "display_data"
    }
   ],
   "source": [
    "fontsize=16 \n",
    "fig, ax = plt.subplots(figsize=(9, 5.2))\n",
    "ax.plot(state_values, ψ_star, \"k-\",  \n",
    "        lw=3, alpha=0.7, label=\"$\\psi^*$\")\n",
    "\n",
    "ax.bar(state_values, histogram, alpha=0.7, label=\"frequency\")\n",
    "ax.set_xlabel(\"state\", fontsize=fontsize)\n",
    "\n",
    "ax.legend(fontsize=fontsize, frameon=False)\n",
    "ax.set_ylim(0, 0.015)\n",
    "\n",
    "plt.show()"
   ]
  },
  {
   "cell_type": "code",
   "execution_count": null,
   "id": "51935b18",
   "metadata": {},
   "outputs": [],
   "source": []
  }
 ],
 "metadata": {
  "jupytext": {
   "cell_metadata_filter": "-all",
   "main_language": "python",
   "notebook_metadata_filter": "-all"
  },
  "kernelspec": {
   "display_name": "Python 3 (ipykernel)",
   "language": "python",
   "name": "python3"
  },
  "language_info": {
   "codemirror_mode": {
    "name": "ipython",
    "version": 3
   },
   "file_extension": ".py",
   "mimetype": "text/x-python",
   "name": "python",
   "nbconvert_exporter": "python",
   "pygments_lexer": "ipython3",
   "version": "3.9.7"
  }
 },
 "nbformat": 4,
 "nbformat_minor": 5
}
