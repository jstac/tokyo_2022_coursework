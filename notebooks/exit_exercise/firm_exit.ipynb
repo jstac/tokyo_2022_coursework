{
 "cells": [
  {
   "cell_type": "markdown",
   "id": "15f5785c",
   "metadata": {},
   "source": [
    "\n",
    "# Firm valuation with exit option.\n"
   ]
  },
  {
   "cell_type": "code",
   "execution_count": 1,
   "id": "431b8c10",
   "metadata": {
    "lines_to_next_cell": 2
   },
   "outputs": [],
   "source": [
    "import numpy as np\n",
    "import quantecon as qe\n",
    "from collections import namedtuple\n",
    "import matplotlib.pyplot as plt"
   ]
  },
  {
   "cell_type": "markdown",
   "id": "bf3c119c",
   "metadata": {},
   "source": [
    "## Successive Approximation"
   ]
  },
  {
   "cell_type": "markdown",
   "id": "90d23751",
   "metadata": {},
   "source": [
    "First, here's a function that does successive approximation:"
   ]
  },
  {
   "cell_type": "code",
   "execution_count": 2,
   "id": "2b5b5d5a",
   "metadata": {},
   "outputs": [],
   "source": [
    "\"Implements successive approximation.\"\n",
    "def successive_approx(T,                     # Operator (callable)\n",
    "                      x_0,                   # Initial condition\n",
    "                      tolerance=1e-6,        # Error tolerance\n",
    "                      max_iter=10_000,       # Max iteration bound\n",
    "                      print_step=25,         # Print at multiples\n",
    "                      verbose=False):        \n",
    "    x = x_0\n",
    "    error = np.inf\n",
    "    k = 1\n",
    "    while error > tolerance and k <= max_iter:\n",
    "        x_new = T(x)\n",
    "        error = np.max(np.abs(x_new - x))\n",
    "        if verbose and k % print_step == 0:\n",
    "            print(f\"Completed iteration {k} with error {error}.\")\n",
    "        x = x_new\n",
    "        k += 1\n",
    "    if k < max_iter:\n",
    "        print(f\"Terminated successfully in {k} iterations.\")\n",
    "    else:\n",
    "        print(f\"Warning: Iteration hit max_iter bound {max_iter}.\")\n",
    "    return x"
   ]
  },
  {
   "cell_type": "markdown",
   "id": "e4d56015",
   "metadata": {},
   "source": [
    "Let's test it on the Solow growth model\n",
    "\n",
    "$$ k_{t+1} = g(k_t) \\quad \\text{where} \\quad g(k) = s A k^\\alpha + (1-\\delta) k $$\n",
    "\n",
    "The fixed point is $k^* = (sA/\\delta)^{1/(1-\\alpha)}$"
   ]
  },
  {
   "cell_type": "code",
   "execution_count": 3,
   "id": "e2e6a6f5",
   "metadata": {
    "lines_to_next_cell": 1
   },
   "outputs": [],
   "source": [
    "Model = namedtuple(\"Model\", (\"s\", \"A\", \"α\", \"δ\"))\n",
    "\n",
    "def create_solow_model(s=0.5, A=1.0, α=0.3, δ=0.1):\n",
    "    return Model(s=s, A=A, α=α, δ=δ)"
   ]
  },
  {
   "cell_type": "code",
   "execution_count": 4,
   "id": "f94b98c1",
   "metadata": {},
   "outputs": [],
   "source": [
    "def f(k, model):\n",
    "    s, A, α, δ = model.s, model.A, model.α, model.δ\n",
    "    return s * A * k**α + (1 - δ) * k\n",
    "\n",
    "def steady_state(model):\n",
    "    s, A, α, δ = model.s, model.A, model.α, model.δ\n",
    "    return (s * A / δ)**(1/(1-α))"
   ]
  },
  {
   "cell_type": "code",
   "execution_count": 5,
   "id": "546b5de3",
   "metadata": {},
   "outputs": [],
   "source": [
    "model = create_solow_model()"
   ]
  },
  {
   "cell_type": "code",
   "execution_count": 6,
   "id": "a55a4603",
   "metadata": {},
   "outputs": [
    {
     "data": {
      "text/plain": [
       "9.966176578193442"
      ]
     },
     "execution_count": 6,
     "metadata": {},
     "output_type": "execute_result"
    }
   ],
   "source": [
    "steady_state(model)"
   ]
  },
  {
   "cell_type": "code",
   "execution_count": 7,
   "id": "1d365df7",
   "metadata": {},
   "outputs": [
    {
     "name": "stdout",
     "output_type": "stream",
     "text": [
      "Terminated successfully in 190 iterations.\n"
     ]
    },
    {
     "data": {
      "text/plain": [
       "9.966163661066052"
      ]
     },
     "execution_count": 7,
     "metadata": {},
     "output_type": "execute_result"
    }
   ],
   "source": [
    "successive_approx(lambda k: f(k, model), 1.0)"
   ]
  },
  {
   "cell_type": "markdown",
   "id": "2605be8c",
   "metadata": {},
   "source": [
    "## Firm Valuation with Exit"
   ]
  },
  {
   "cell_type": "code",
   "execution_count": 8,
   "id": "84307cc8",
   "metadata": {
    "lines_to_next_cell": 1
   },
   "outputs": [],
   "source": [
    "Model = namedtuple(\"Model\", (\"z_vals\", \"Q\", \"β\", \"s\")) "
   ]
  },
  {
   "cell_type": "code",
   "execution_count": 9,
   "id": "89271676",
   "metadata": {},
   "outputs": [],
   "source": [
    "def create_exit_model(\n",
    "        n=200,                  # productivity grid size\n",
    "        ρ=0.95, μ=0.1, ν=0.1,   # persistence, mean and volatility\n",
    "        β=0.98, s=100.0         # discount factor and scrap value\n",
    "        ):\n",
    "    mc = qe.tauchen(ρ, ν, μ, n=n)\n",
    "    z_vals, Q = mc.state_values, mc.P\n",
    "    return Model(z_vals=z_vals, Q=Q, β=β, s=s)"
   ]
  },
  {
   "cell_type": "code",
   "execution_count": 10,
   "id": "1ccf8d55",
   "metadata": {
    "lines_to_next_cell": 1
   },
   "outputs": [],
   "source": [
    "\" The Bellman operator Tv = max{s, π + β Q v}.\"\n",
    "def T(v, model):\n",
    "    z_vals, Q, β, s = model.z_vals, model.Q, model.β, model.s\n",
    "    h = z_vals + β * Q @ v\n",
    "    return np.maximum(s, h)"
   ]
  },
  {
   "cell_type": "code",
   "execution_count": 11,
   "id": "47815819",
   "metadata": {
    "lines_to_next_cell": 1
   },
   "outputs": [],
   "source": [
    "\" Get a v-greedy policy.\"\n",
    "def get_greedy(v, model):\n",
    "    z_vals, Q, β, s = model.z_vals, model.Q, model.β, model.s\n",
    "    σ = s >= z_vals + β * Q @ v\n",
    "    return σ"
   ]
  },
  {
   "cell_type": "code",
   "execution_count": 12,
   "id": "deaed58a",
   "metadata": {
    "lines_to_next_cell": 1
   },
   "outputs": [],
   "source": [
    "\" Compute value of the firm without exit option.\"\n",
    "def no_exit_value(model):\n",
    "    z_vals, Q, β, s = model.z_vals, model.Q, model.β, model.s\n",
    "    n = len(z_vals)\n",
    "    I = np.identity(n)\n",
    "    return # put missing code here"
   ]
  },
  {
   "cell_type": "code",
   "execution_count": 13,
   "id": "e8f38c96",
   "metadata": {},
   "outputs": [],
   "source": [
    "\"Solve by VFI.\"\n",
    "def vfi(model):\n",
    "    v_init = no_exit_value(model)\n",
    "    v_star = # put missing code here\n",
    "    σ_star = get_greedy(v_star, model)\n",
    "    return v_star, σ_star"
   ]
  },
  {
   "cell_type": "markdown",
   "id": "0e115e9f",
   "metadata": {},
   "source": [
    "### Plots"
   ]
  },
  {
   "cell_type": "markdown",
   "id": "a8a439c7",
   "metadata": {},
   "source": [
    "First let's plot the value function $v^*$ and the no-exit value function"
   ]
  },
  {
   "cell_type": "code",
   "execution_count": 14,
   "id": "6af9af89",
   "metadata": {},
   "outputs": [
    {
     "name": "stdout",
     "output_type": "stream",
     "text": [
      "Terminated successfully in 315 iterations.\n"
     ]
    },
    {
     "data": {
      "image/png": "[encoded data removed]",
      "text/plain": [
       "<Figure size 648x374.4 with 1 Axes>"
      ]
     },
     "metadata": {
      "needs_background": "light"
     },
     "output_type": "display_data"
    }
   ],
   "source": [
    "fontsize=14\n",
    "fig, ax = plt.subplots(figsize=(9, 5.2))\n",
    "\n",
    "model = create_exit_model()\n",
    "z_vals, Q, β, s = model.z_vals, model.Q, model.β, model.s\n",
    "\n",
    "v_star, σ_star = vfi(model)\n",
    "w = no_exit_value(model)\n",
    "\n",
    "ax.plot(z_vals, v_star, \"k-\", lw=2, alpha=0.6, label=\"$v^*$\")\n",
    "ax.plot(z_vals, w, lw=2, alpha=0.6, label=\"no-exit value\")\n",
    "\n",
    "ax.legend(frameon=False, fontsize=fontsize)\n",
    "ax.set_xlabel(\"$z$\", fontsize=fontsize)\n",
    "\n",
    "plt.show()"
   ]
  },
  {
   "cell_type": "markdown",
   "id": "eb4890ca",
   "metadata": {},
   "source": [
    "Now plot the optimal policy."
   ]
  },
  {
   "cell_type": "code",
   "execution_count": 15,
   "id": "1ff629b3",
   "metadata": {},
   "outputs": [
    {
     "name": "stdout",
     "output_type": "stream",
     "text": [
      "Terminated successfully in 315 iterations.\n"
     ]
    },
    {
     "data": {
      "image/png": "[encoded data removed]",
      "text/plain": [
       "<Figure size 648x374.4 with 1 Axes>"
      ]
     },
     "metadata": {
      "needs_background": "light"
     },
     "output_type": "display_data"
    }
   ],
   "source": [
    "fontsize=14\n",
    "fig, ax = plt.subplots(figsize=(9, 5.2))\n",
    "\n",
    "# Put missing code here\n",
    "\n",
    "plt.show()"
   ]
  },
  {
   "cell_type": "code",
   "execution_count": null,
   "id": "d802c53e",
   "metadata": {},
   "outputs": [],
   "source": []
  },
  {
   "cell_type": "code",
   "execution_count": null,
   "id": "0a4fa1e1",
   "metadata": {},
   "outputs": [],
   "source": []
  }
 ],
 "metadata": {
  "jupytext": {
   "cell_metadata_filter": "-all",
   "main_language": "python",
   "notebook_metadata_filter": "-all"
  },
  "kernelspec": {
   "display_name": "Python 3 (ipykernel)",
   "language": "python",
   "name": "python3"
  },
  "language_info": {
   "codemirror_mode": {
    "name": "ipython",
    "version": 3
   },
   "file_extension": ".py",
   "mimetype": "text/x-python",
   "name": "python",
   "nbconvert_exporter": "python",
   "pygments_lexer": "ipython3",
   "version": "3.9.7"
  }
 },
 "nbformat": 4,
 "nbformat_minor": 5
}
